{
 "cells": [
  {
   "cell_type": "markdown",
   "metadata": {},
   "source": [
    "# Regression Modeling"
   ]
  },
  {
   "cell_type": "markdown",
   "metadata": {},
   "source": [
    "## IMPORTS"
   ]
  },
  {
   "cell_type": "code",
   "execution_count": null,
   "metadata": {
    "collapsed": false
   },
   "outputs": [],
   "source": [
    "from sklearn.linear_model import LinearRegression,Lasso,Ridge,ElasticNet\n",
    "from sklearn.ensemble import GradientBoostingRegressor, RandomForestRegressor\n",
    "from sklearn.cross_validation import train_test_split, cross_val_score\n",
    "from sklearn.preprocessing import StandardScaler\n",
    "import pandas as pd\n",
    "import numpy as np\n",
    "import matplotlib.pyplot as plt\n",
    "%matplotlib inline"
   ]
  },
  {
   "cell_type": "markdown",
   "metadata": {},
   "source": [
    "## LOAD DATA"
   ]
  },
  {
   "cell_type": "code",
   "execution_count": null,
   "metadata": {
    "collapsed": true
   },
   "outputs": [],
   "source": [
    "filename = 'insert file name here'\n",
    "df = pd.read_csv(filename) # or read_json, read_sql, read_pickle, read_html, etc\n",
    "df.head()                  # see head of data frame"
   ]
  },
  {
   "cell_type": "markdown",
   "metadata": {},
   "source": [
    "## SPLIT INTO TRAIN/TEST\n",
    "- shuffle data at random state = 42\n",
    "- Train with 80% of data\n",
    "- Test with 20% of data"
   ]
  },
  {
   "cell_type": "code",
   "execution_count": null,
   "metadata": {
    "collapsed": false
   },
   "outputs": [],
   "source": [
    "X = [] # features, should be matrix (or a vector if only 1 feature)\n",
    "y = [] # target, should be vector\n",
    "# X_std = StandardScaler().fit_transform(X) # scale if necessary\n",
    "# y_std = StandardScaler().fit_transform(y) # scale if necessary\n",
    "X_train, X_test, y_train, y_test = train_test_split(X,y,test_size=0.20,random_state=42)"
   ]
  },
  {
   "cell_type": "markdown",
   "metadata": {},
   "source": [
    "## MACHINE LEARNING ALGORITHMS"
   ]
  },
  {
   "cell_type": "code",
   "execution_count": null,
   "metadata": {
    "collapsed": true
   },
   "outputs": [],
   "source": [
    "models = {}\n",
    "models['Ridge'] = Ridge()\n",
    "models['Lasso'] = Lasso()\n",
    "models['Elastic_Net'] = ElasticNet()\n",
    "models['Linear_Regression'] = LinearRegression()\n",
    "models['Random_Forest'] = RandomForestRegressor()\n",
    "models['Gradient_Boost'] = GradientBoostingRegressor()"
   ]
  },
  {
   "cell_type": "markdown",
   "metadata": {},
   "source": [
    "## TRAIN & SCORE MODELS"
   ]
  },
  {
   "cell_type": "code",
   "execution_count": null,
   "metadata": {
    "collapsed": true
   },
   "outputs": [],
   "source": [
    "for name,model in models.items():\n",
    "    results = model.fit(X_train,y_train) #fit that model\n",
    "    y_pred = results.predict(X_test)\n",
    "    train_score = np.mean(cross_val_score(model,X_train,y_train, cv=4)) # 4 fold cross validation \n",
    "    test_score = results.score(X_test,y_test)\n",
    "    print 'MODEL:{} \\t TRAIN_SCORE:{} \\t TEST_SCORE:{}'.format(name,train_score,test_score)"
   ]
  },
  {
   "cell_type": "markdown",
   "metadata": {},
   "source": [
    "## MODEL EVALUATION"
   ]
  },
  {
   "cell_type": "code",
   "execution_count": null,
   "metadata": {
    "collapsed": true
   },
   "outputs": [],
   "source": [
    "def plot_analysis(name,y_true,y_pred):  \n",
    "    figs,axs = plt.subplots(ncols=2,nrows=1)\n",
    "    figs.set_figwidth(15)\n",
    "    figs.set_figheight(10)   \n",
    "    ax = axs[0]\n",
    "    residual = abs(y_true)-abs(y_pred)\n",
    "    ax.scatter(y_pred,residual)\n",
    "    ax.plot(np.linspace(min(residual),max(residual)),np.linspace(min(residual),max(residual))*0, '--r')\n",
    "    ax.set_title('Residual VS. Predicted (MODEL:{})'.format(name))\n",
    "    ax.set_xlabel('Predicted Yield')\n",
    "    ax.set_ylabel('Residual')\n",
    "    ax.grid(True)\n",
    "    ax = axs[1]\n",
    "    ax.scatter(y_true,y_pred)\n",
    "    ax.plot([min(y_true),max(true)],[min(y_true),max(y_true)],'--r')\n",
    "    ax.set_title('Predicted VS. True (MODEL:{})'.format(name))\n",
    "    ax.set_xlabel('True Yield')\n",
    "    ax.set_ylabel('Predicted Yield')\n",
    "    ax.grid(True)"
   ]
  }
 ],
 "metadata": {
  "anaconda-cloud": {},
  "kernelspec": {
   "display_name": "Python [Root]",
   "language": "python",
   "name": "Python [Root]"
  },
  "language_info": {
   "codemirror_mode": {
    "name": "ipython",
    "version": 2
   },
   "file_extension": ".py",
   "mimetype": "text/x-python",
   "name": "python",
   "nbconvert_exporter": "python",
   "pygments_lexer": "ipython2",
   "version": "2.7.12"
  }
 },
 "nbformat": 4,
 "nbformat_minor": 0
}
