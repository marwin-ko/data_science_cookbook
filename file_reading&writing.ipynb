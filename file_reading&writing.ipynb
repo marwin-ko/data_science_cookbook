{
 "cells": [
  {
   "cell_type": "markdown",
   "metadata": {},
   "source": [
    "# File Reading & Writing"
   ]
  },
  {
   "cell_type": "markdown",
   "metadata": {},
   "source": [
    "## CSV"
   ]
  },
  {
   "cell_type": "code",
   "execution_count": null,
   "metadata": {
    "collapsed": false
   },
   "outputs": [],
   "source": [
    "import csv\n",
    "\n",
    "# WRITE\n",
    "input_data = [] #insert data\n",
    "labels = [] #insert labels\n",
    "with open('file_name', 'wb') as f:\n",
    "    writer = csv.writer(f, delimiter=',')\n",
    "    writer.writerow(labels)  #writes in header row for labels\n",
    "    for row in input_data:\n",
    "        writer.writerow(row)\n",
    "\n",
    "# READ (into a list)\n",
    "output = []\n",
    "with open('file_name','rb') as f:\n",
    "    reader = csv.reader(f)\n",
    "    skip_labels = reader.next()\n",
    "    for row in reader:\n",
    "        output.append(row)\n",
    "        \n",
    "# READ (into a dictionary)\n",
    "output = defaultdict() \n",
    "with open('file_name','rb') as f:\n",
    "    reader = csv.reader(f)\n",
    "    skip_labels = reader.next()\n",
    "    for row in reader:\n",
    "        key = row[0] #if key is at the first index\n",
    "        val = row[1] #if value is at the second index\n",
    "        output[key].append(val)"
   ]
  },
  {
   "cell_type": "markdown",
   "metadata": {},
   "source": [
    "## PICKLE"
   ]
  },
  {
   "cell_type": "code",
   "execution_count": null,
   "metadata": {
    "collapsed": true
   },
   "outputs": [],
   "source": [
    "import pickle\n",
    "\n",
    "# WRITE\n",
    "with open(filename, 'wb') as f:\n",
    "    pickle.dump(results, f)\n",
    "\n",
    "# READ\n",
    "with open(filename, 'rb') as f:\n",
    "    pickles = pickle.load(f)"
   ]
  },
  {
   "cell_type": "markdown",
   "metadata": {},
   "source": [
    "## PANDAS & PICKLE"
   ]
  },
  {
   "cell_type": "code",
   "execution_count": null,
   "metadata": {
    "collapsed": true
   },
   "outputs": [],
   "source": [
    "import pandas as pd\n",
    "df = pd.read_pickle('file_name.plk')     # read pickle file into pandas data frame\n",
    "df = pd.to_pickle('new_file_name.plk')   # write pandas data frame to a pickle file"
   ]
  },
  {
   "cell_type": "markdown",
   "metadata": {},
   "source": [
    "## READ MULTIPLE FILES! :D"
   ]
  },
  {
   "cell_type": "code",
   "execution_count": null,
   "metadata": {
    "collapsed": true
   },
   "outputs": [],
   "source": [
    "from glob import glob\n",
    "import csv\n",
    "\n",
    "output = []\n",
    "file_names = glob('*.csv') # grabs all txt in current path\n",
    "for file_name in file_names:\n",
    "    with open(file_name,'r') as f:\n",
    "        reader = csv.reader(f)\n",
    "        skip_labels = reader.next() #if no labels(header) in files, then comment it out\n",
    "        for row in reader:\n",
    "            output.append(row)"
   ]
  }
 ],
 "metadata": {
  "anaconda-cloud": {},
  "kernelspec": {
   "display_name": "Python [Root]",
   "language": "python",
   "name": "Python [Root]"
  },
  "language_info": {
   "codemirror_mode": {
    "name": "ipython",
    "version": 2
   },
   "file_extension": ".py",
   "mimetype": "text/x-python",
   "name": "python",
   "nbconvert_exporter": "python",
   "pygments_lexer": "ipython2",
   "version": "2.7.12"
  }
 },
 "nbformat": 4,
 "nbformat_minor": 0
}
