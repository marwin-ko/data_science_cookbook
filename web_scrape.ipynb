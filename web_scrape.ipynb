{
 "cells": [
  {
   "cell_type": "markdown",
   "metadata": {
    "collapsed": true
   },
   "source": [
    "# Web Scrape Template\n",
    "\n",
    "This is a web scrapping template. Last updated: 9/26/16 "
   ]
  },
  {
   "cell_type": "markdown",
   "metadata": {},
   "source": [
    "## IMPORTS"
   ]
  },
  {
   "cell_type": "code",
   "execution_count": null,
   "metadata": {
    "collapsed": true
   },
   "outputs": [],
   "source": [
    "from bs4 import BeautifulSoup\n",
    "from pprint import pprint\n",
    "import pandas as pd\n",
    "import requests"
   ]
  },
  {
   "cell_type": "markdown",
   "metadata": {},
   "source": [
    "## REQUEST & STATUS\n",
    "\n",
    "Get HTML text and check for request status...\n",
    " - status=200 ==> request accepted!\n",
    " - status=300 ==> request redirected...\n",
    " - status=400 ==> bad request\n",
    " - status=500 ==> Internal Sever Error"
   ]
  },
  {
   "cell_type": "code",
   "execution_count": null,
   "metadata": {
    "collapsed": false
   },
   "outputs": [],
   "source": [
    "URL = 'insert URL here'\n",
    "response = requests.get(URL)\n",
    "soup = BeautifulSoup(response.text)\n",
    "status = response.status_code\n",
    "print status"
   ]
  },
  {
   "cell_type": "markdown",
   "metadata": {},
   "source": [
    "## CHECK HTML\n",
    "View soup text for HTML tags. The data of interest should be surrounded by these HTML tags."
   ]
  },
  {
   "cell_type": "code",
   "execution_count": null,
   "metadata": {
    "collapsed": false
   },
   "outputs": [],
   "source": [
    "pprint(soup)"
   ]
  },
  {
   "cell_type": "markdown",
   "metadata": {},
   "source": [
    "## PARSE & OBTAIN DATA\n",
    "\n",
    "Insert the HTML tag and print out data. This code below is a simple way to parse and quickly view data. This is the most complicated step and typically takes some parsing finesse."
   ]
  },
  {
   "cell_type": "code",
   "execution_count": null,
   "metadata": {
    "collapsed": true
   },
   "outputs": [],
   "source": [
    "html_tag = 'insert tag here' #tags include, but not limited to ['table','tbody','td','tr']\n",
    "html_text = soup.findAll(html_tag)\n",
    "data = [website_info.text.encode('utf-8') for website_info in html_text]\n",
    "print data #view data"
   ]
  }
 ],
 "metadata": {
  "anaconda-cloud": {},
  "kernelspec": {
   "display_name": "Python [Root]",
   "language": "python",
   "name": "Python [Root]"
  },
  "language_info": {
   "codemirror_mode": {
    "name": "ipython",
    "version": 2
   },
   "file_extension": ".py",
   "mimetype": "text/x-python",
   "name": "python",
   "nbconvert_exporter": "python",
   "pygments_lexer": "ipython2",
   "version": "2.7.12"
  }
 },
 "nbformat": 4,
 "nbformat_minor": 0
}
