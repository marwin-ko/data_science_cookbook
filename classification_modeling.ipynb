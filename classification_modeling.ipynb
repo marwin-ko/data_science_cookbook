{
 "cells": [
  {
   "cell_type": "markdown",
   "metadata": {},
   "source": [
    "## Classification Modeling (supervised)"
   ]
  },
  {
   "cell_type": "markdown",
   "metadata": {},
   "source": [
    "If you are reading this then you are interested in performing some supervised classification modeling. First, lets make sure you actually have a supervised classification problem.\n",
    "\n",
    "Consider the following YES/NO questions:\n",
    "1. Do you have labels for your target variable?\n",
    "2. Is your target variable categorical?\n",
    "\n",
    "    ex: (yes,no) | (0,1) ==> (binary classification)\n",
    "    \n",
    "    ex: (yes,no,maybe) | |(freshman,sophomore,junior) | (0,1,2) ==> (ranking classification)\n",
    "   \n",
    "    ex: (red,blue,green,yellow) | (english,chinese,spanish,french) ==> (multi classification)\n",
    "\n",
    "If you answered YES to both question 1 & 2, then you have a supervised classifcation model. You may continue on! Enjoy this modeling recipe! :)\n",
    "\n",
    "If you answered NO to question 1, then you have an unsupervised problem.\n",
    "\n",
    "If you answered NO to question 2, then you most likely have a regression problem."
   ]
  },
  {
   "cell_type": "markdown",
   "metadata": {},
   "source": [
    "### IMPORTS"
   ]
  },
  {
   "cell_type": "code",
   "execution_count": null,
   "metadata": {
    "collapsed": false
   },
   "outputs": [],
   "source": [
    "# MODELS\n",
    "from sklearn.ensemble import RandomForestClassifier,GradientBoostingClassifier\n",
    "from sklearn.linear_model import LogisticRegression\n",
    "from sklearn.neighbors import KNeighborsClassifier\n",
    "from sklearn.naive_bayes import GaussianNB\n",
    "import xgboost\n",
    "\n",
    "# OTHER GOODIES & METRICS\n",
    "from sklearn.cross_validation import train_test_split, cross_val_score\n",
    "from sklearn.metrics import classification_report, precision_recall_curve\n",
    "from sklearn.metrics import confusion_matrix, roc_curve, accuracy_score , auc\n",
    "from sklearn.grid_search import GridSearchCV\n",
    "import pandas as pd\n",
    "import numpy as np\n",
    "import matplotlib.pyplot as plt\n",
    "%matplotlib inline"
   ]
  },
  {
   "cell_type": "markdown",
   "metadata": {},
   "source": [
    "## LOAD DATA"
   ]
  },
  {
   "cell_type": "code",
   "execution_count": null,
   "metadata": {
    "collapsed": true
   },
   "outputs": [],
   "source": [
    "filename = 'insert file name'\n",
    "df = pd.read_csv(filename) # or read_json, read_sql, read_pickle, read_html, etc\n",
    "df.head(5)                 # see head of data frame"
   ]
  },
  {
   "cell_type": "markdown",
   "metadata": {},
   "source": [
    "## SPLIT INTO TRAIN & TEST\n",
    "- shuffle data at random state = 42\n",
    "- Train with 80% of data\n",
    "- Test with 20% of data"
   ]
  },
  {
   "cell_type": "code",
   "execution_count": null,
   "metadata": {
    "collapsed": true
   },
   "outputs": [],
   "source": [
    "X = [] # features, should be matrix (or a vector if only 1 feature)\n",
    "y = [] # target, should be vector\n",
    "X_train, X_test, y_train, y_test = train_test_split(X,y,test_size=0.2, random_state=42)"
   ]
  },
  {
   "cell_type": "markdown",
   "metadata": {},
   "source": [
    "## MACHINE LEARNING ALGORITHMS\n",
    "- I personally like to place any and all ML algorithms that I might want to implement in production into a dictionary\n",
    "- Keep in mind size of data and application, this will dictate what algorithms you will actually end up using.\n",
    "- I listed some of my favorite ML algorithms below. Feel free to check out sklearn for more! :D"
   ]
  },
  {
   "cell_type": "code",
   "execution_count": null,
   "metadata": {
    "collapsed": false
   },
   "outputs": [],
   "source": [
    "models = {}\n",
    "models['XG_Boost'] = xgboost.XGBClassifier() #same as gradient boosting, but faster!\n",
    "models['KNeighbors'] = KNeighborsClassifier()\n",
    "models['Gaussian_Naive_Bayes'] = GaussianNB()\n",
    "models['Random_Forest'] = RandomForestClassifier()\n",
    "models['Logistic_Regression'] = LogisticRegression()\n",
    "models['Gradient_Boosting'] = GradientBoostingClassifier()"
   ]
  },
  {
   "cell_type": "markdown",
   "metadata": {},
   "source": [
    "# TRAIN/SCORE/EVALUATE MODELS\n",
    "\n",
    "- Once I train my classification models, I personally like to view the PR and ROC curves to roughly evaluate my model(s)\n",
    "- Another one of my personal favorite metrics is the confusion matrix. It's great because you simultaneous view and quantify how well your model is doing. The more numbers on the diagonal (from top left to bottom right), the better. In addition, numbers on the lower or upper triangle from the diagonal help quantify how many false positives or true positives you have (assuming binary classification)."
   ]
  },
  {
   "cell_type": "code",
   "execution_count": null,
   "metadata": {
    "collapsed": true
   },
   "outputs": [],
   "source": [
    "fig,axs = plt.subplots(nrows=len(models,ncols=2)\n",
    "fig.set_figwidth(15)\n",
    "fig.set_figheight(5)\n",
    "\n",
    "for name,model in models.items():\n",
    "    results = model.fit(X_train,y_train) #fit that model\n",
    "    y_pred = results.predict(X_test)\n",
    "    y_pred_probs = results.predict_proba(X_test)\n",
    "    score = accuracy_score(y_test,y_pred)\n",
    "    \n",
    "    precision,recall,threshold_PR = precision_recall_curve(y_test,y_pred_probs[:,1],pos_label=1)\n",
    "    fpr,tpr,threshold_ROC = roc_curve(y_test,y_pred_probs[:,1],pos_label=1)\n",
    "    AUC = auc(fpr,tpr)\n",
    "    \n",
    "    print '############################## MODEL:{} ##############################'.format(name)\n",
    "    print 'AUC: {}'.format(AUC)\n",
    "    report = classification_report(y_test,y_pred)\n",
    "    con_mat = confusion_matrix(y_test,y_pred)\n",
    "    i+=1\n",
    "    ax = axs[-1+i,0]\n",
    "    ax.plot(recall,precision)\n",
    "    ax.set_title('Precision-Recall')\n",
    "    ax.set_xlabel('Recall')\n",
    "    ax.set_ylabel('Precision')\n",
    "    ax.grid(True)\n",
    "    ax = axs[-1+i,1]\n",
    "    ax.plot(fpr,tpr)\n",
    "    ax.set_title('ROC Curve')\n",
    "    ax.set_xlabel('False Positive Rate')\n",
    "    ax.set_ylabel('True Positive Rate')\n",
    "    ax.grid(True)"
   ]
  }
 ],
 "metadata": {
  "anaconda-cloud": {},
  "kernelspec": {
   "display_name": "Python [Root]",
   "language": "python",
   "name": "Python [Root]"
  },
  "language_info": {
   "codemirror_mode": {
    "name": "ipython",
    "version": 2
   },
   "file_extension": ".py",
   "mimetype": "text/x-python",
   "name": "python",
   "nbconvert_exporter": "python",
   "pygments_lexer": "ipython2",
   "version": "2.7.12"
  }
 },
 "nbformat": 4,
 "nbformat_minor": 0
}
